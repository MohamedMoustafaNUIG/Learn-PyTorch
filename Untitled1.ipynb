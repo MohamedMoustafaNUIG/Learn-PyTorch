{
 "cells": [
  {
   "cell_type": "code",
   "execution_count": 2,
   "metadata": {},
   "outputs": [],
   "source": [
    "import torch\n",
    "from torch import nn\n",
    "import torch.nn.functional as F\n",
    "import numpy as np\n",
    "import matplotlib.pyplot as plt\n",
    "%matplotlib inline"
   ]
  },
  {
   "cell_type": "code",
   "execution_count": 3,
   "metadata": {},
   "outputs": [],
   "source": [
    "from torchnlp.datasets import imdb_dataset"
   ]
  },
  {
   "cell_type": "code",
   "execution_count": 4,
   "metadata": {},
   "outputs": [],
   "source": [
    "train = imdb_dataset(directory='./imdb', train=True)\n",
    "test = imdb_dataset(directory='./imdb', test=True)"
   ]
  },
  {
   "cell_type": "code",
   "execution_count": 7,
   "metadata": {},
   "outputs": [
    {
     "name": "stdout",
     "output_type": "stream",
     "text": [
      "25000\n",
      "25000\n"
     ]
    }
   ],
   "source": [
    "print(len(train))\n",
    "print(len(test))"
   ]
  },
  {
   "cell_type": "code",
   "execution_count": 8,
   "metadata": {},
   "outputs": [
    {
     "name": "stdout",
     "output_type": "stream",
     "text": [
      "{'text': 'Bromwell High is a cartoon comedy. It ran at the same time as some other programs about school life, such as \"Teachers\". My 35 years in the teaching profession lead me to believe that Bromwell High\\'s satire is much closer to reality than is \"Teachers\". The scramble to survive financially, the insightful students who can see right through their pathetic teachers\\' pomp, the pettiness of the whole situation, all remind me of the schools I knew and their students. When I saw the episode in which a student repeatedly tried to burn down the school, I immediately recalled ......... at .......... High. A classic line: INSPECTOR: I\\'m here to sack one of your teachers. STUDENT: Welcome to Bromwell High. I expect that many adults of my age think that Bromwell High is far fetched. What a pity that it isn\\'t!', 'sentiment': 'pos'}\n"
     ]
    }
   ],
   "source": [
    "print(train[0])"
   ]
  },
  {
   "cell_type": "code",
   "execution_count": 9,
   "metadata": {},
   "outputs": [
    {
     "name": "stdout",
     "output_type": "stream",
     "text": [
      "2\n"
     ]
    }
   ],
   "source": [
    "print(len(train[0]))"
   ]
  },
  {
   "cell_type": "code",
   "execution_count": 12,
   "metadata": {},
   "outputs": [
    {
     "name": "stdout",
     "output_type": "stream",
     "text": [
      "806\n"
     ]
    }
   ],
   "source": [
    "print(len(train[0]['text']))"
   ]
  },
  {
   "cell_type": "code",
   "execution_count": 22,
   "metadata": {},
   "outputs": [],
   "source": [
    "import random\n",
    "\n",
    "random.shuffle(train)"
   ]
  },
  {
   "cell_type": "code",
   "execution_count": 23,
   "metadata": {},
   "outputs": [],
   "source": [
    "max_test = 0\n",
    "max_train = 0\n",
    "\n",
    "for rev in test:\n",
    "    max_test = len(rev['text']) if len(rev['text'])>max_test else max_test\n",
    "    \n",
    "for rev in train:\n",
    "    max_train = len(rev['text']) if len(rev['text'])>max_train else max_train\n",
    "    if(len(rev['text']) == 13704):\n",
    "        temp = rev['text']\n",
    "\n",
    "#print('max train: '+str(max_train))\n",
    "#print('max test: '+str(max_test))\n",
    "\n",
    "seq_len = max_test if max_test>max_train else max_train"
   ]
  },
  {
   "cell_type": "code",
   "execution_count": 26,
   "metadata": {},
   "outputs": [],
   "source": [
    "train_rev = []\n",
    "train_sent = []\n",
    "\n",
    "test_rev = []\n",
    "test_sent = []\n",
    "\n",
    "for data in train:\n",
    "    train_rev.append(data['text'])\n",
    "    train_sent.append(1) if data['sentiment'] == 'pos' else train_sent.append(-1)\n",
    "    \n",
    "for data in test:\n",
    "    test_rev.append(data['text'])\n",
    "    test_sent.append(1) if data['sentiment'] == 'pos' else test_sent.append(-1)"
   ]
  },
  {
   "cell_type": "code",
   "execution_count": 96,
   "metadata": {},
   "outputs": [
    {
     "name": "stdout",
     "output_type": "stream",
     "text": [
      "Oh My God! Please, for the love of all that is holy, Do Not Watch This Movie! It it 82 minutes of my life I will never get back. Sure, I could have stopped watching half way through. But I thought it might get better. It Didn't. Anyone who actually enjoyed this movie is one seriously sick and twisted individual. No wonder us Australians/New Zealanders have a terrible reputation when it comes to making movies. Everything about this movie is horrible, from the acting to the editing. I don't even normally write reviews on here, but in this case I'll make an exception. I only wish someone had of warned me before I hired this catastrophe\n"
     ]
    }
   ],
   "source": [
    "print(train_rev[1000])"
   ]
  },
  {
   "cell_type": "code",
   "execution_count": 93,
   "metadata": {},
   "outputs": [],
   "source": [
    "from string import punctuation\n",
    "\n",
    "for i in range(len(train_rev)):\n",
    "    train_rev[0] = train_rev[0].lower()\n",
    "    train_rev[0] = ''.join([c for c in train_rev[0] if c not in punctuation])\n",
    "    \n",
    "for i in range(len(test_rev)):\n",
    "    test_rev[0] = test_rev[0].lower()\n",
    "    test_rev[0] = ''.join([c for c in test_rev[0] if c not in punctuation])"
   ]
  },
  {
   "cell_type": "code",
   "execution_count": 104,
   "metadata": {},
   "outputs": [],
   "source": [
    "def make_vocab(corpus):\n",
    "    #coprus: list of reviews\n",
    "    vocab = tuple(set(\" \".join(corpus)))\n",
    "    return vocab"
   ]
  },
  {
   "cell_type": "code",
   "execution_count": 110,
   "metadata": {},
   "outputs": [],
   "source": [
    "vocab_corpus = train_rev+test_rev\n",
    "vocab = make_vocab(vocab_corpus)\n",
    "int2vocab = dict(enumerate(vocab))\n",
    "vocab2int = {v: ii for ii, v in int2vocab.items()}"
   ]
  },
  {
   "cell_type": "code",
   "execution_count": 112,
   "metadata": {},
   "outputs": [
    {
     "name": "stdout",
     "output_type": "stream",
     "text": [
      "(',', 'E', ';', 'ý', '-', '(', '*', 'v', '+', '©')\n"
     ]
    }
   ],
   "source": [
    "print(vocab[0:10])"
   ]
  },
  {
   "cell_type": "code",
   "execution_count": null,
   "metadata": {},
   "outputs": [],
   "source": []
  }
 ],
 "metadata": {
  "kernelspec": {
   "display_name": "Python 3",
   "language": "python",
   "name": "python3"
  },
  "language_info": {
   "codemirror_mode": {
    "name": "ipython",
    "version": 3
   },
   "file_extension": ".py",
   "mimetype": "text/x-python",
   "name": "python",
   "nbconvert_exporter": "python",
   "pygments_lexer": "ipython3",
   "version": "3.7.6"
  }
 },
 "nbformat": 4,
 "nbformat_minor": 4
}
